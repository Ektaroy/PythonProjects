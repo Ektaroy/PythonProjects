{
  "nbformat": 4,
  "nbformat_minor": 0,
  "metadata": {
    "colab": {
      "provenance": [],
      "authorship_tag": "ABX9TyNkU0DOX7GRmP/ec2m4dn8P",
      "include_colab_link": true
    },
    "kernelspec": {
      "name": "python3",
      "display_name": "Python 3"
    },
    "language_info": {
      "name": "python"
    }
  },
  "cells": [
    {
      "cell_type": "markdown",
      "metadata": {
        "id": "view-in-github",
        "colab_type": "text"
      },
      "source": [
        "<a href=\"https://colab.research.google.com/github/Ektaroy/EventMarkdown/blob/main/ML1.ipynb\" target=\"_parent\"><img src=\"https://colab.research.google.com/assets/colab-badge.svg\" alt=\"Open In Colab\"/></a>"
      ]
    },
    {
      "cell_type": "code",
      "execution_count": 31,
      "metadata": {
        "id": "qA3rKNlMJ6Ib"
      },
      "outputs": [],
      "source": [
        "import matplotlib.pyplot as plt\n",
        "import numpy as np\n",
        "from sklearn import datasets,linear_model \n",
        "from sklearn.metrics import mean_squared_error"
      ]
    },
    {
      "cell_type": "code",
      "source": [
        "diabetes = datasets.load_diabetes()"
      ],
      "metadata": {
        "id": "wHEJ3EqLNQrb"
      },
      "execution_count": 19,
      "outputs": []
    },
    {
      "cell_type": "code",
      "source": [
        "print(diabetes.keys())"
      ],
      "metadata": {
        "colab": {
          "base_uri": "https://localhost:8080/"
        },
        "id": "pehT8Tf6NVgb",
        "outputId": "91612ffa-16a1-48fc-e05a-258d245dba31"
      },
      "execution_count": 32,
      "outputs": [
        {
          "output_type": "stream",
          "name": "stdout",
          "text": [
            "dict_keys(['data', 'target', 'frame', 'DESCR', 'feature_names', 'data_filename', 'target_filename', 'data_module'])\n"
          ]
        }
      ]
    },
    {
      "cell_type": "code",
      "source": [
        "print(diabetes.data)"
      ],
      "metadata": {
        "colab": {
          "base_uri": "https://localhost:8080/"
        },
        "id": "IQJTeNxnO7W_",
        "outputId": "8d7243de-97c7-4e03-d6d1-c9b77a961cf3"
      },
      "execution_count": 33,
      "outputs": [
        {
          "output_type": "stream",
          "name": "stdout",
          "text": [
            "[[ 0.03807591  0.05068012  0.06169621 ... -0.00259226  0.01990842\n",
            "  -0.01764613]\n",
            " [-0.00188202 -0.04464164 -0.05147406 ... -0.03949338 -0.06832974\n",
            "  -0.09220405]\n",
            " [ 0.08529891  0.05068012  0.04445121 ... -0.00259226  0.00286377\n",
            "  -0.02593034]\n",
            " ...\n",
            " [ 0.04170844  0.05068012 -0.01590626 ... -0.01107952 -0.04687948\n",
            "   0.01549073]\n",
            " [-0.04547248 -0.04464164  0.03906215 ...  0.02655962  0.04452837\n",
            "  -0.02593034]\n",
            " [-0.04547248 -0.04464164 -0.0730303  ... -0.03949338 -0.00421986\n",
            "   0.00306441]]\n"
          ]
        }
      ]
    },
    {
      "cell_type": "code",
      "source": [
        "print(diabetes.DESCR)"
      ],
      "metadata": {
        "colab": {
          "base_uri": "https://localhost:8080/"
        },
        "id": "03OOoIyGPM0t",
        "outputId": "66b841e1-293b-4e3b-ce85-e7b71fb93d47"
      },
      "execution_count": 34,
      "outputs": [
        {
          "output_type": "stream",
          "name": "stdout",
          "text": [
            ".. _diabetes_dataset:\n",
            "\n",
            "Diabetes dataset\n",
            "----------------\n",
            "\n",
            "Ten baseline variables, age, sex, body mass index, average blood\n",
            "pressure, and six blood serum measurements were obtained for each of n =\n",
            "442 diabetes patients, as well as the response of interest, a\n",
            "quantitative measure of disease progression one year after baseline.\n",
            "\n",
            "**Data Set Characteristics:**\n",
            "\n",
            "  :Number of Instances: 442\n",
            "\n",
            "  :Number of Attributes: First 10 columns are numeric predictive values\n",
            "\n",
            "  :Target: Column 11 is a quantitative measure of disease progression one year after baseline\n",
            "\n",
            "  :Attribute Information:\n",
            "      - age     age in years\n",
            "      - sex\n",
            "      - bmi     body mass index\n",
            "      - bp      average blood pressure\n",
            "      - s1      tc, total serum cholesterol\n",
            "      - s2      ldl, low-density lipoproteins\n",
            "      - s3      hdl, high-density lipoproteins\n",
            "      - s4      tch, total cholesterol / HDL\n",
            "      - s5      ltg, possibly log of serum triglycerides level\n",
            "      - s6      glu, blood sugar level\n",
            "\n",
            "Note: Each of these 10 feature variables have been mean centered and scaled by the standard deviation times `n_samples` (i.e. the sum of squares of each column totals 1).\n",
            "\n",
            "Source URL:\n",
            "https://www4.stat.ncsu.edu/~boos/var.select/diabetes.html\n",
            "\n",
            "For more information see:\n",
            "Bradley Efron, Trevor Hastie, Iain Johnstone and Robert Tibshirani (2004) \"Least Angle Regression,\" Annals of Statistics (with discussion), 407-499.\n",
            "(https://web.stanford.edu/~hastie/Papers/LARS/LeastAngle_2002.pdf)\n"
          ]
        }
      ]
    },
    {
      "cell_type": "code",
      "source": [
        "# diabetes_X = diabetes.data[:,np.newaxis,2]\n",
        "diabetes_X = diabetes.data\n",
        "\n",
        "print(diabetes_X)"
      ],
      "metadata": {
        "colab": {
          "base_uri": "https://localhost:8080/"
        },
        "id": "tGJ8FPVFPedB",
        "outputId": "b6a841a7-7ba3-4707-fdea-17f47c786d2d"
      },
      "execution_count": 35,
      "outputs": [
        {
          "output_type": "stream",
          "name": "stdout",
          "text": [
            "[[ 0.03807591  0.05068012  0.06169621 ... -0.00259226  0.01990842\n",
            "  -0.01764613]\n",
            " [-0.00188202 -0.04464164 -0.05147406 ... -0.03949338 -0.06832974\n",
            "  -0.09220405]\n",
            " [ 0.08529891  0.05068012  0.04445121 ... -0.00259226  0.00286377\n",
            "  -0.02593034]\n",
            " ...\n",
            " [ 0.04170844  0.05068012 -0.01590626 ... -0.01107952 -0.04687948\n",
            "   0.01549073]\n",
            " [-0.04547248 -0.04464164  0.03906215 ...  0.02655962  0.04452837\n",
            "  -0.02593034]\n",
            " [-0.04547248 -0.04464164 -0.0730303  ... -0.03949338 -0.00421986\n",
            "   0.00306441]]\n"
          ]
        }
      ]
    },
    {
      "cell_type": "code",
      "source": [
        "diabetes_X_train = diabetes_X[:-30]\n",
        "diabetes_X_test = diabetes_X[-30:]"
      ],
      "metadata": {
        "id": "twHO5YUNP_ut"
      },
      "execution_count": 36,
      "outputs": []
    },
    {
      "cell_type": "code",
      "source": [
        "diabetes_Y_train = diabetes_X[:-30]\n",
        "diabetes_Y_test = diabetes_X[-30:]"
      ],
      "metadata": {
        "id": "63Txk5kMQ9Ei"
      },
      "execution_count": 37,
      "outputs": []
    },
    {
      "cell_type": "code",
      "source": [
        "model = linear_model.LinearRegression()"
      ],
      "metadata": {
        "id": "BnGxJurXTctc"
      },
      "execution_count": 39,
      "outputs": []
    },
    {
      "cell_type": "code",
      "source": [
        "model.fit(diabetes_X_train,diabetes_Y_train)"
      ],
      "metadata": {
        "colab": {
          "base_uri": "https://localhost:8080/"
        },
        "id": "QCtKUhBtTcoE",
        "outputId": "c9bff155-1220-4bf8-e83a-334cf5faf296"
      },
      "execution_count": 40,
      "outputs": [
        {
          "output_type": "execute_result",
          "data": {
            "text/plain": [
              "LinearRegression()"
            ]
          },
          "metadata": {},
          "execution_count": 40
        }
      ]
    },
    {
      "cell_type": "code",
      "source": [
        "diabetes_Y_predicted = model.predict(diabetes_X_test)"
      ],
      "metadata": {
        "id": "CMGBNvINUKLt"
      },
      "execution_count": 41,
      "outputs": []
    },
    {
      "cell_type": "code",
      "source": [
        "print(\"Mean squared error is: \",mean_squared_error(diabetes_Y_test,diabetes_Y_predicted))"
      ],
      "metadata": {
        "colab": {
          "base_uri": "https://localhost:8080/"
        },
        "id": "Sq_kHeY5Urhe",
        "outputId": "91a826b8-aca8-4830-dd63-e271c5533c54"
      },
      "execution_count": 42,
      "outputs": [
        {
          "output_type": "stream",
          "name": "stdout",
          "text": [
            "Mean squared error is:  2.2165878307673624e-33\n"
          ]
        }
      ]
    },
    {
      "cell_type": "code",
      "source": [
        "print(\"Weights : \",model.coef_)\n",
        "print( \"Intercept :\",model.intercept_)"
      ],
      "metadata": {
        "colab": {
          "base_uri": "https://localhost:8080/"
        },
        "id": "h-QimTm_Vzic",
        "outputId": "de6b4b73-9cdd-4219-c5fc-fb2cf4fc4cbd"
      },
      "execution_count": 43,
      "outputs": [
        {
          "output_type": "stream",
          "name": "stdout",
          "text": [
            "Weights :  [[ 1.00000000e+00 -1.92492217e-16  2.61918386e-16  3.95416773e-16\n",
            "   1.69631274e-16 -8.45940218e-18  3.35944754e-16 -2.07170205e-16\n",
            "   4.08423437e-17  1.11627093e-16]\n",
            " [-2.83635991e-16  1.00000000e+00 -5.55111512e-17 -1.11022302e-16\n",
            "   6.10622664e-16  3.33066907e-16  3.88578059e-16  3.88578059e-16\n",
            "  -1.11022302e-16 -1.11022302e-16]\n",
            " [ 2.66911544e-16 -2.77555756e-16  1.00000000e+00  2.08166817e-16\n",
            "  -2.77555756e-17 -6.66133815e-16 -1.31838984e-16  7.56339436e-16\n",
            "  -5.96744876e-16 -4.16333634e-17]\n",
            " [ 9.46037274e-17 -3.33066907e-16  0.00000000e+00  1.00000000e+00\n",
            "  -1.94289029e-16  2.49800181e-16 -4.82253126e-16  1.52655666e-16\n",
            "   5.55111512e-17 -2.22044605e-16]\n",
            " [-1.24642534e-16  8.32667268e-16 -2.91433544e-16  2.77555756e-17\n",
            "   1.00000000e+00  2.35922393e-16  4.26741975e-16 -2.08166817e-16\n",
            "   3.05311332e-16  1.94289029e-16]\n",
            " [ 1.73956632e-16  1.11022302e-16 -2.35922393e-16  5.55111512e-17\n",
            "  -1.24900090e-16  1.00000000e+00 -9.36750677e-17 -2.08166817e-16\n",
            "  -2.77555756e-17  0.00000000e+00]\n",
            " [-2.15083806e-16  8.74300632e-16 -2.67147415e-16  7.63278329e-17\n",
            "   1.73472348e-17 -2.39391840e-16  1.00000000e+00  5.37764278e-16\n",
            "  -5.51642065e-16  2.98372438e-16]\n",
            " [-1.16734555e-16 -1.11022302e-16  0.00000000e+00 -1.38777878e-17\n",
            "   6.93889390e-17 -1.38777878e-16  8.32667268e-17  1.00000000e+00\n",
            "  -3.05311332e-16 -5.55111512e-17]\n",
            " [-1.82710057e-16 -1.11022302e-16 -4.44089210e-16 -1.66533454e-16\n",
            "  -1.08246745e-15  1.20736754e-15  5.89805982e-17 -2.91433544e-16\n",
            "   1.00000000e+00  2.77555756e-17]\n",
            " [-2.88161075e-17 -4.44089210e-16 -2.49800181e-16 -2.49800181e-16\n",
            "   5.55111512e-17 -1.24900090e-16 -2.87964097e-16  5.55111512e-17\n",
            "   2.49800181e-16  1.00000000e+00]]\n",
            "Intercept : [ 5.14996032e-19  2.11419424e-18 -5.69206141e-19 -5.42101086e-20\n",
            " -8.67361738e-19 -2.16840434e-19  5.42101086e-20  0.00000000e+00\n",
            "  3.25260652e-19 -4.33680869e-19]\n"
          ]
        }
      ]
    },
    {
      "cell_type": "code",
      "source": [
        "# plt.scatter(diabetes_X_test,diabetes_Y_test)\n",
        "# plt.plot(diabetes_X_test,diabetes_Y_predicted)\n",
        "# plt.show()"
      ],
      "metadata": {
        "id": "pFilRXpcWLrT"
      },
      "execution_count": 44,
      "outputs": []
    },
    {
      "cell_type": "code",
      "source": [],
      "metadata": {
        "id": "skCC6aRiW456"
      },
      "execution_count": 28,
      "outputs": []
    },
    {
      "cell_type": "code",
      "source": [],
      "metadata": {
        "id": "pCmgbWtPXNcW"
      },
      "execution_count": 26,
      "outputs": []
    }
  ]
}